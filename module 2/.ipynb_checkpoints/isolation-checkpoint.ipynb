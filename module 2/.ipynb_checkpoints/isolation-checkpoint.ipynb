{
 "cells": [
  {
   "cell_type": "code",
   "execution_count": 1,
   "metadata": {},
   "outputs": [
    {
     "name": "stdout",
     "output_type": "stream",
     "text": [
      "calling min_value on an empty board...\n"
     ]
    },
    {
     "ename": "NameError",
     "evalue": "name 'minmax_helpers' is not defined",
     "output_type": "error",
     "traceback": [
      "\u001b[1;31m---------------------------------------------------------------------------\u001b[0m",
      "\u001b[1;31mNameError\u001b[0m                                 Traceback (most recent call last)",
      "\u001b[1;32m<ipython-input-1-ccf3e294347c>\u001b[0m in \u001b[0;36m<module>\u001b[1;34m\u001b[0m\n\u001b[0;32m     58\u001b[0m \u001b[1;33m\u001b[0m\u001b[0m\n\u001b[0;32m     59\u001b[0m \u001b[0mprint\u001b[0m\u001b[1;33m(\u001b[0m\u001b[1;34m\"calling min_value on an empty board...\"\u001b[0m\u001b[1;33m)\u001b[0m\u001b[1;33m\u001b[0m\u001b[1;33m\u001b[0m\u001b[0m\n\u001b[1;32m---> 60\u001b[1;33m \u001b[0mv\u001b[0m \u001b[1;33m=\u001b[0m \u001b[0mminmax_helpers\u001b[0m\u001b[1;33m.\u001b[0m\u001b[0mmin_value\u001b[0m\u001b[1;33m(\u001b[0m\u001b[0mg\u001b[0m\u001b[1;33m)\u001b[0m\u001b[1;33m\u001b[0m\u001b[1;33m\u001b[0m\u001b[0m\n\u001b[0m\u001b[0;32m     61\u001b[0m \u001b[1;33m\u001b[0m\u001b[0m\n\u001b[0;32m     62\u001b[0m \u001b[1;32mif\u001b[0m \u001b[0mv\u001b[0m \u001b[1;33m==\u001b[0m \u001b[1;33m-\u001b[0m\u001b[1;36m1\u001b[0m\u001b[1;33m:\u001b[0m\u001b[1;33m\u001b[0m\u001b[1;33m\u001b[0m\u001b[0m\n",
      "\u001b[1;31mNameError\u001b[0m: name 'minmax_helpers' is not defined"
     ]
    }
   ],
   "source": [
    "import minmax_helpers\n",
    "\n",
    "from copy import deepcopy\n",
    "# board dimentions constant\n",
    "xlim , ylim = 2 , 3\n",
    "\n",
    "class GameState:\n",
    "    def __init(self):\n",
    "        self._board = [[0] * ylim for _ in range(xlim)]\n",
    "        self._board[-1][-1] = 1\n",
    "        seld._parity = 0\n",
    "        self.player_locations = [None , None]\n",
    "    def forecast_move(self , move):\n",
    "        if move not in self.get_legal_moves():\n",
    "            raise RuntimeError(\"attempted forcast of an illeaglemove\")\n",
    "        newBoard = deepcopy(self)\n",
    "        newBoard._board[move[0]][move[1]] = 1\n",
    "        newBoard._player_loacations[self._parity] = move\n",
    "        newBoard._parity ^= 1\n",
    "        return newBoard\n",
    "    def get_legal_moves(self):\n",
    "        loc = self._player_loacations[self._parity]\n",
    "        if not loc:\n",
    "            return self._get_blank_spaces()\n",
    "        moves = []\n",
    "        rays = [(1, 0), (1, -1), (0, -1), (-1, -1), (-1, 0), (-1, 1), (0, 1), (1, 1)]\n",
    "        for dx , dy in rays:\n",
    "            _x , _y = loc\n",
    "            while 0 <= _x + dx < xlim and 0 <= _y + dy < ylim:\n",
    "                _x , _y = _x + dx , _y + dy\n",
    "                if self._board[_x][_y]:\n",
    "                    break\n",
    "                moves.append((_x , _y))\n",
    "        return moves\n",
    "    def _get_blank_spaces(self):\n",
    "        return [(x , y) for y in range(ylim) for x in range(xlim) if self._board[x][y] == 0]\n",
    "\n",
    "    \n",
    "\n",
    "    \n",
    "def terminal_test(gameState):\n",
    "    return not bool(gameState.get_legal_moves())\n",
    "def min_value(gameState):\n",
    "    if terminal_test(gameState):\n",
    "        return 1\n",
    "    v = float(\"inf\")\n",
    "    for m in gameState.get_legal_moves():\n",
    "        v = min(v , max_value(gameState.forecast_move(m)))\n",
    "    return v\n",
    "def max_value(gameState):\n",
    "    if terminal_test(gameState):\n",
    "        return -1\n",
    "    v = float(\"-inf\")\n",
    "    for m in gameState.get_legal_moves():\n",
    "        v = max(v , min_value(gameState.forecast_move(m)))\n",
    "    return v\n",
    "\n",
    "\n",
    "g = GameState()\n",
    "\n",
    "print(\"calling min_value on an empty board...\")\n",
    "v = minmax_helpers.min_value(g)\n",
    "\n",
    "if v == -1:\n",
    "    print(\"sahiii\")\n",
    "else:\n",
    "    print(\"galat\")"
   ]
  },
  {
   "cell_type": "code",
   "execution_count": null,
   "metadata": {},
   "outputs": [],
   "source": []
  }
 ],
 "metadata": {
  "kernelspec": {
   "display_name": "Python 3",
   "language": "python",
   "name": "python3"
  },
  "language_info": {
   "codemirror_mode": {
    "name": "ipython",
    "version": 3
   },
   "file_extension": ".py",
   "mimetype": "text/x-python",
   "name": "python",
   "nbconvert_exporter": "python",
   "pygments_lexer": "ipython3",
   "version": "3.7.1"
  }
 },
 "nbformat": 4,
 "nbformat_minor": 2
}
