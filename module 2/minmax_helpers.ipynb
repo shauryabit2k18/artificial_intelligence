{
 "cells": [
  {
   "cell_type": "code",
   "execution_count": null,
   "metadata": {},
   "outputs": [],
   "source": [
    "\n",
    "    \n",
    "def terminal_test(gameState):\n",
    "    return not bool(gameState.get_legal_moves())\n",
    "def min_value(gameState):\n",
    "    if terminal_test(gameState):\n",
    "        return 1\n",
    "    v = float(\"inf\")\n",
    "    for m in gameState.get_legal_moves():\n",
    "        v = min(v , max_value(gameState.forecast_move(m)))\n",
    "    return v\n",
    "def max_value(gameState):\n",
    "    if terminal_test(gameState):\n",
    "        return -1\n",
    "    v = float(\"-inf\")\n",
    "    for m in gameState.get_legal_moves():\n",
    "        v = max(v , min_value(gameState.forecast_move(m)))\n",
    "    return v\n",
    "\n"
   ]
  }
 ],
 "metadata": {
  "kernelspec": {
   "display_name": "Python 3",
   "language": "python",
   "name": "python3"
  },
  "language_info": {
   "codemirror_mode": {
    "name": "ipython",
    "version": 3
   },
   "file_extension": ".py",
   "mimetype": "text/x-python",
   "name": "python",
   "nbconvert_exporter": "python",
   "pygments_lexer": "ipython3",
   "version": "3.7.1"
  }
 },
 "nbformat": 4,
 "nbformat_minor": 2
}
